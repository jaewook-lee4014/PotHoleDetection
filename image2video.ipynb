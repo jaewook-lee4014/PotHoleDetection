{
 "cells": [
  {
   "cell_type": "code",
   "execution_count": 4,
   "metadata": {},
   "outputs": [],
   "source": [
    "# 이미지들을 이어붙여 비디오를 만드는 코드\n",
    "import cv2\n",
    "import numpy as np\n",
    "\n",
    "# 업로드된 이미지 파일 경로 (정렬된 순서 유지)\n",
    "image_paths = sorted([\n",
    "    \"/mnt/data/China_Drone_000048.jpg\",\n",
    "    \"/mnt/data/China_Drone_000057.jpg\",\n",
    "    \"/mnt/data/China_Drone_000061.jpg\",\n",
    "    \"/mnt/data/China_Drone_000062.jpg\",\n",
    "    \"/mnt/data/China_Drone_000064.jpg\",\n",
    "    \"/mnt/data/China_Drone_000136.jpg\"\n",
    "])\n",
    "\n",
    "# 비디오 저장 경로\n",
    "stitched_video_path = \".video/stitched_output_video.mp4\"\n",
    "\n"
   ]
  },
  {
   "cell_type": "code",
   "execution_count": null,
   "metadata": {},
   "outputs": [],
   "source": [
    "# 프레임 크기 설정 (가장 큰 이미지 크기에 맞춤)\n",
    "max_width = max(cv2.imread(p).shape[1] for p in image_paths)\n",
    "max_height = max(cv2.imread(p).shape[0] for p in image_paths)\n",
    "target_size = (max_width, max_height)\n",
    "\n",
    "# 비디오 설정\n",
    "fourcc = cv2.VideoWriter_fourcc(*'mp4v')  # MP4 코덱 설정\n",
    "fps = 2  # 초당 프레임 수\n",
    "video = cv2.VideoWriter(stitched_video_path, fourcc, fps, target_size)\n",
    "\n",
    "# 이미지들을 같은 크기로 맞춰서 비디오에 추가\n",
    "for image_path in image_paths:\n",
    "    img = cv2.imread(image_path)\n",
    "    resized_img = cv2.resize(img, target_size, interpolation=cv2.INTER_AREA)\n",
    "    video.write(resized_img)\n",
    "\n",
    "video.release()\n",
    "\n",
    "# 생성된 비디오 파일 경로 출력\n",
    "stitched_video_path\n"
   ]
  },
  {
   "cell_type": "code",
   "execution_count": 3,
   "metadata": {},
   "outputs": [
    {
     "name": "stdout",
     "output_type": "stream",
     "text": [
      "Defaulting to user installation because normal site-packages is not writeable\n",
      "Requirement already satisfied: opencv-python in /Users/k23070952/Library/Python/3.9/lib/python/site-packages (4.11.0.86)\n",
      "Requirement already satisfied: numpy>=1.21.0 in /Users/k23070952/Library/Python/3.9/lib/python/site-packages (from opencv-python) (2.0.2)\n",
      "\n",
      "\u001b[1m[\u001b[0m\u001b[34;49mnotice\u001b[0m\u001b[1;39;49m]\u001b[0m\u001b[39;49m A new release of pip is available: \u001b[0m\u001b[31;49m25.0\u001b[0m\u001b[39;49m -> \u001b[0m\u001b[32;49m25.0.1\u001b[0m\n",
      "\u001b[1m[\u001b[0m\u001b[34;49mnotice\u001b[0m\u001b[1;39;49m]\u001b[0m\u001b[39;49m To update, run: \u001b[0m\u001b[32;49m/Library/Developer/CommandLineTools/usr/bin/python3 -m pip install --upgrade pip\u001b[0m\n",
      "Note: you may need to restart the kernel to use updated packages.\n"
     ]
    }
   ],
   "source": [
    "pip install opencv-python"
   ]
  },
  {
   "cell_type": "code",
   "execution_count": null,
   "metadata": {},
   "outputs": [],
   "source": []
  },
  {
   "cell_type": "code",
   "execution_count": null,
   "metadata": {},
   "outputs": [],
   "source": []
  }
 ],
 "metadata": {
  "kernelspec": {
   "display_name": "Python 3",
   "language": "python",
   "name": "python3"
  },
  "language_info": {
   "codemirror_mode": {
    "name": "ipython",
    "version": 3
   },
   "file_extension": ".py",
   "mimetype": "text/x-python",
   "name": "python",
   "nbconvert_exporter": "python",
   "pygments_lexer": "ipython3",
   "version": "3.9.6"
  }
 },
 "nbformat": 4,
 "nbformat_minor": 2
}
