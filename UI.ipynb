{
 "cells": [
  {
   "cell_type": "code",
   "execution_count": null,
   "metadata": {},
   "outputs": [
    {
     "name": "stdout",
     "output_type": "stream",
     "text": [
      "Running on local URL:  http://127.0.0.1:7861\n",
      "\n",
      "0: 960x1280 (no detections), 95.2ms\n",
      "Speed: 7.9ms preprocess, 95.2ms inference, 3.7ms postprocess per image at shape (1, 3, 960, 1280)\n",
      "WARNING ⚠️ 'source' is missing. Using 'source=/Users/k23070952/Library/Python/3.9/lib/python/site-packages/ultralytics/assets'.\n",
      "\n",
      "image 1/2 /Users/k23070952/Library/Python/3.9/lib/python/site-packages/ultralytics/assets/bus.jpg: 1280x960 1 pothole, 99.6ms\n",
      "image 2/2 /Users/k23070952/Library/Python/3.9/lib/python/site-packages/ultralytics/assets/zidane.jpg: 736x1280 (no detections), 69.7ms\n",
      "Speed: 3.5ms preprocess, 84.7ms inference, 2.3ms postprocess per image at shape (1, 3, 736, 1280)\n",
      "\n",
      "Could not create share link. Missing file: /Users/k23070952/Library/Python/3.9/lib/python/site-packages/gradio/frpc_darwin_arm64_v0.2. \n",
      "\n",
      "Please check your internet connection. This can happen if your antivirus software blocks the download of this file. You can install manually by following these steps: \n",
      "\n",
      "1. Download this file: https://cdn-media.huggingface.co/frpc-gradio-0.2/frpc_darwin_arm64\n",
      "2. Rename the downloaded file to: frpc_darwin_arm64_v0.2\n",
      "3. Move the file to this location: /Users/k23070952/Library/Python/3.9/lib/python/site-packages/gradio\n"
     ]
    },
    {
     "name": "stderr",
     "output_type": "stream",
     "text": [
      "\n"
     ]
    },
    {
     "data": {
      "text/html": [
       "<div><iframe src=\"http://127.0.0.1:7861/\" width=\"100%\" height=\"500\" allow=\"autoplay; camera; microphone; clipboard-read; clipboard-write;\" frameborder=\"0\" allowfullscreen></iframe></div>"
      ],
      "text/plain": [
       "<IPython.core.display.HTML object>"
      ]
     },
     "metadata": {},
     "output_type": "display_data"
    },
    {
     "data": {
      "text/plain": []
     },
     "execution_count": 8,
     "metadata": {},
     "output_type": "execute_result"
    },
    {
     "name": "stdout",
     "output_type": "stream",
     "text": [
      "WARNING ⚠️ 'source' is missing. Using 'source=/Users/k23070952/Library/Python/3.9/lib/python/site-packages/ultralytics/assets'.\n",
      "\n",
      "image 1/2 /Users/k23070952/Library/Python/3.9/lib/python/site-packages/ultralytics/assets/bus.jpg: 1280x960 1 pothole, 94.7ms\n",
      "image 2/2 /Users/k23070952/Library/Python/3.9/lib/python/site-packages/ultralytics/assets/zidane.jpg: 736x1280 (no detections), 60.0ms\n",
      "Speed: 4.0ms preprocess, 77.4ms inference, 0.4ms postprocess per image at shape (1, 3, 736, 1280)\n",
      "WARNING ⚠️ 'source' is missing. Using 'source=/Users/k23070952/Library/Python/3.9/lib/python/site-packages/ultralytics/assets'.\n",
      "\n",
      "image 1/2 /Users/k23070952/Library/Python/3.9/lib/python/site-packages/ultralytics/assets/bus.jpg: 1280x960 1 pothole, 91.5ms\n",
      "image 2/2 /Users/k23070952/Library/Python/3.9/lib/python/site-packages/ultralytics/assets/zidane.jpg: 736x1280 (no detections), 58.8ms\n",
      "Speed: 3.5ms preprocess, 75.2ms inference, 0.3ms postprocess per image at shape (1, 3, 736, 1280)\n"
     ]
    }
   ],
   "source": [
    "import gradio as gr\n",
    "from ultralytics import YOLO\n",
    "import cv2\n",
    "import numpy as np\n",
    "\n",
    "model = YOLO(\"./best.pt\")\n",
    "\n",
    "def detect_image(image):\n",
    "    model = YOLO(\"./best.pt\")  # 모델 로드\n",
    "    results = model.predict(image, imgsz=1280, save=False)  # YOLO 예측 실행\n",
    "    \n",
    "    result_image = results[0].plot()  # 예측 결과 이미지 변환\n",
    "    return result_image  # 결과 반환\n",
    "\n",
    "# Gradio UI 설정\n",
    "demo = gr.Interface(\n",
    "    fn=detect_image,  # 이미지 분석 함수\n",
    "    inputs=gr.Image(type=\"numpy\"),  # 입력: 이미지 업로드\n",
    "    outputs=gr.Image(type=\"numpy\"),  # 출력: 분석된 이미지\n",
    "    title=\"YOLO Image Detection\",  # UI 제목\n",
    "    description=\"Upload an image to detect objects using YOLO model.\"\n",
    ")\n",
    "\n",
    "demo.launch(share=True)  # UI 실행"
   ]
  },
  {
   "cell_type": "code",
   "execution_count": 6,
   "metadata": {},
   "outputs": [
    {
     "name": "stdout",
     "output_type": "stream",
     "text": [
      "README.md        best.pt          test.ipynb       yolov8n.pt\n",
      "\u001b[34mTest_images\u001b[m\u001b[m/     pothole_v8.yaml  train.ipynb\n",
      "UI.ipynb         \u001b[34mruns\u001b[m\u001b[m/            train.py\n"
     ]
    }
   ],
   "source": [
    "ls"
   ]
  },
  {
   "cell_type": "code",
   "execution_count": 1,
   "metadata": {},
   "outputs": [
    {
     "name": "stderr",
     "output_type": "stream",
     "text": [
      "C:\\Users\\user\\anaconda3\\envs\\pytorch\\Lib\\site-packages\\tqdm\\auto.py:21: TqdmWarning: IProgress not found. Please update jupyter and ipywidgets. See https://ipywidgets.readthedocs.io/en/stable/user_install.html\n",
      "  from .autonotebook import tqdm as notebook_tqdm\n"
     ]
    },
    {
     "name": "stdout",
     "output_type": "stream",
     "text": [
      "* Running on local URL:  http://127.0.0.1:7860\n",
      "\n",
      "Could not create share link. Please check your internet connection or our status page: https://status.gradio.app.\n"
     ]
    },
    {
     "data": {
      "text/html": [
       "<div><iframe src=\"http://127.0.0.1:7860/\" width=\"100%\" height=\"500\" allow=\"autoplay; camera; microphone; clipboard-read; clipboard-write;\" frameborder=\"0\" allowfullscreen></iframe></div>"
      ],
      "text/plain": [
       "<IPython.core.display.HTML object>"
      ]
     },
     "metadata": {},
     "output_type": "display_data"
    },
    {
     "name": "stdout",
     "output_type": "stream",
     "text": [
      "Keyboard interruption in main thread... closing server.\n"
     ]
    },
    {
     "data": {
      "text/plain": []
     },
     "execution_count": 1,
     "metadata": {},
     "output_type": "execute_result"
    }
   ],
   "source": [
    "import gradio as gr\n",
    "\n",
    "def greet(name):\n",
    "    return \"Hello \" + name + \"!\"\n",
    "\n",
    "demo = gr.Interface(fn=greet, inputs=\"text\", outputs=\"text\")\n",
    "    \n",
    "demo.launch(share=True, debug=True)"
   ]
  }
 ],
 "metadata": {
  "kernelspec": {
   "display_name": "Python 3",
   "language": "python",
   "name": "python3"
  },
  "language_info": {
   "codemirror_mode": {
    "name": "ipython",
    "version": 3
   },
   "file_extension": ".py",
   "mimetype": "text/x-python",
   "name": "python",
   "nbconvert_exporter": "python",
   "pygments_lexer": "ipython3",
   "version": "3.9.6"
  }
 },
 "nbformat": 4,
 "nbformat_minor": 2
}
